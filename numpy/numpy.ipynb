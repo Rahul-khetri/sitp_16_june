{
 "cells": [
  {
   "cell_type": "code",
   "execution_count": null,
   "id": "3a571187",
   "metadata": {},
   "outputs": [],
   "source": [
    "import numpy as np  ###np is  nick name for numpy , as np and import keyword"
   ]
  },
  {
   "cell_type": "code",
   "execution_count": null,
   "id": "24436f91",
   "metadata": {},
   "outputs": [],
   "source": [
    "np.__version__"
   ]
  },
  {
   "cell_type": "code",
   "execution_count": null,
   "id": "e8b81742",
   "metadata": {},
   "outputs": [],
   "source": [
    "# array and list \n",
    "lst = [1,2,3,4,5]\n",
    "print(\"list:-\",lst)\n",
    "print(type(lst))\n",
    "\n",
    "arr=np.array(lst)\n",
    "print(\"array:-\" ,arr)\n",
    "print(\"type of array:-\",type(arr))"
   ]
  },
  {
   "cell_type": "code",
   "execution_count": null,
   "id": "261b3d6f",
   "metadata": {},
   "outputs": [],
   "source": [
    "lst =list(range(0,21))"
   ]
  },
  {
   "cell_type": "code",
   "execution_count": null,
   "id": "625f074a",
   "metadata": {},
   "outputs": [],
   "source": [
    "arr =np.array(lst )\n",
    "arr "
   ]
  },
  {
   "cell_type": "code",
   "execution_count": null,
   "id": "49574b81",
   "metadata": {},
   "outputs": [],
   "source": [
    "[ 0,  1,  2,  3,  4,  5,  6,  7,  8,  9, 10, 11, 12, 13, 14, 15, 16,\n",
    "       17, 18, 19, 20]"
   ]
  },
  {
   "cell_type": "code",
   "execution_count": null,
   "id": "48463e68",
   "metadata": {},
   "outputs": [],
   "source": [
    "arr =np.array([ 0,  1,  2,  3,  4,  5,  6,  7,  8,  9, 10, 11, 12, 13, 14, 15, 16,\n",
    "       17, 18, 19, 20])"
   ]
  },
  {
   "cell_type": "code",
   "execution_count": null,
   "id": "ad398278",
   "metadata": {},
   "outputs": [],
   "source": [
    "arr "
   ]
  },
  {
   "cell_type": "code",
   "execution_count": null,
   "id": "35173684",
   "metadata": {},
   "outputs": [],
   "source": [
    "arr =np.arange(1, 20)\n",
    "type(arr )\n",
    "arr"
   ]
  },
  {
   "cell_type": "code",
   "execution_count": null,
   "id": "cb8a097c",
   "metadata": {},
   "outputs": [],
   "source": [
    "arr =np.zeros(5)\n",
    "arr "
   ]
  },
  {
   "cell_type": "code",
   "execution_count": null,
   "id": "f5d808cc",
   "metadata": {},
   "outputs": [],
   "source": [
    "arr =np.zeros((5,10))\n",
    "arr "
   ]
  },
  {
   "cell_type": "code",
   "execution_count": null,
   "id": "c2db837b",
   "metadata": {},
   "outputs": [],
   "source": [
    "arr.ndim"
   ]
  },
  {
   "cell_type": "code",
   "execution_count": null,
   "id": "65e7290f",
   "metadata": {},
   "outputs": [],
   "source": [
    "np.ones((5,10))"
   ]
  },
  {
   "cell_type": "code",
   "execution_count": null,
   "id": "c4cfaf00",
   "metadata": {},
   "outputs": [],
   "source": [
    "np.linspace(1,10,5)"
   ]
  },
  {
   "cell_type": "code",
   "execution_count": null,
   "id": "f49f150e",
   "metadata": {},
   "outputs": [],
   "source": [
    "# 1d array convert into 2d \n",
    "arr =np.arange(0,30)\n",
    "arr "
   ]
  },
  {
   "cell_type": "code",
   "execution_count": null,
   "id": "352b1cc0",
   "metadata": {},
   "outputs": [],
   "source": [
    "arr.reshape(5,6) ### 5 row and 6 coloums\n"
   ]
  },
  {
   "cell_type": "code",
   "execution_count": null,
   "id": "0b60efbe",
   "metadata": {},
   "outputs": [],
   "source": [
    "arr.reshape(10,3)"
   ]
  },
  {
   "cell_type": "code",
   "execution_count": null,
   "id": "3334bc95",
   "metadata": {},
   "outputs": [],
   "source": [
    "np.random.randint(1,5,9)"
   ]
  },
  {
   "cell_type": "code",
   "execution_count": null,
   "id": "0d6c0187",
   "metadata": {},
   "outputs": [],
   "source": [
    "np.random.randint(1,5,(5,2))"
   ]
  },
  {
   "cell_type": "code",
   "execution_count": null,
   "id": "04dfe4e8",
   "metadata": {},
   "outputs": [],
   "source": [
    "np.random.random(10)"
   ]
  },
  {
   "cell_type": "code",
   "execution_count": null,
   "id": "a34322f4",
   "metadata": {},
   "outputs": [],
   "source": [
    "arr =np.random.random((5,10))\n",
    "arr.ndim"
   ]
  },
  {
   "cell_type": "code",
   "execution_count": null,
   "id": "a4138625",
   "metadata": {},
   "outputs": [],
   "source": [
    "arr =np.arange(60).reshape(12,5)\n",
    "arr"
   ]
  },
  {
   "cell_type": "code",
   "execution_count": null,
   "id": "97ccdb19",
   "metadata": {},
   "outputs": [],
   "source": [
    "\n",
    "print(\"shape of array \",arr.shape)\n",
    "print(\"size of array:-\",arr.size)\n",
    "print(\"dim of array :-\",arr.ndim)\n",
    "print(\"data types of array \",arr.dtype)"
   ]
  },
  {
   "cell_type": "code",
   "execution_count": null,
   "id": "8a66bdc2",
   "metadata": {},
   "outputs": [],
   "source": [
    "# 2d array convert into 1 d \n",
    "arr =np.arange(60).reshape(12,5)\n",
    "arr\n"
   ]
  },
  {
   "cell_type": "code",
   "execution_count": null,
   "id": "72c14d63",
   "metadata": {},
   "outputs": [],
   "source": [
    "arr.flatten()  ### "
   ]
  },
  {
   "cell_type": "code",
   "execution_count": null,
   "id": "97f16554",
   "metadata": {},
   "outputs": [],
   "source": [
    "arr.ravel() ### "
   ]
  },
  {
   "cell_type": "code",
   "execution_count": null,
   "id": "6febcadf",
   "metadata": {},
   "outputs": [],
   "source": [
    "arr"
   ]
  },
  {
   "cell_type": "code",
   "execution_count": null,
   "id": "4d0b7696",
   "metadata": {},
   "outputs": [],
   "source": [
    "arr.shape"
   ]
  },
  {
   "cell_type": "code",
   "execution_count": null,
   "id": "269854c4",
   "metadata": {},
   "outputs": [],
   "source": [
    "arr.T.shape"
   ]
  },
  {
   "cell_type": "code",
   "execution_count": null,
   "id": "49cb4604",
   "metadata": {},
   "outputs": [],
   "source": [
    "arr =np.arange(10)\n",
    "arr"
   ]
  },
  {
   "cell_type": "code",
   "execution_count": null,
   "id": "540adb28",
   "metadata": {},
   "outputs": [],
   "source": [
    "arr[0]=100"
   ]
  },
  {
   "cell_type": "code",
   "execution_count": null,
   "id": "51ac2bc2",
   "metadata": {},
   "outputs": [],
   "source": [
    "arr"
   ]
  },
  {
   "cell_type": "code",
   "execution_count": null,
   "id": "41065ccf",
   "metadata": {},
   "outputs": [],
   "source": [
    "arr =np.arange(60).reshape(12,5)\n",
    "arr "
   ]
  },
  {
   "cell_type": "code",
   "execution_count": null,
   "id": "ab864886",
   "metadata": {},
   "outputs": [],
   "source": [
    "arr[0:5,1:2]"
   ]
  },
  {
   "cell_type": "code",
   "execution_count": null,
   "id": "1057610a",
   "metadata": {},
   "outputs": [],
   "source": [
    "arr[7:8,4]=100"
   ]
  },
  {
   "cell_type": "code",
   "execution_count": null,
   "id": "b57d72f7",
   "metadata": {},
   "outputs": [],
   "source": [
    "arr[5,4]  ### 5 is row and 4 coloum "
   ]
  },
  {
   "cell_type": "code",
   "execution_count": null,
   "id": "c99df0d4",
   "metadata": {},
   "outputs": [],
   "source": [
    "arr "
   ]
  },
  {
   "cell_type": "code",
   "execution_count": null,
   "id": "4c72fcb2",
   "metadata": {},
   "outputs": [],
   "source": [
    "arr[11,4] \n",
    "arr[11:,4:]  ### ritik "
   ]
  },
  {
   "cell_type": "code",
   "execution_count": null,
   "id": "0bdc3b17",
   "metadata": {},
   "outputs": [],
   "source": [
    "arr[12:5] ### gg "
   ]
  },
  {
   "cell_type": "code",
   "execution_count": null,
   "id": "0d0eb3bf",
   "metadata": {},
   "outputs": [],
   "source": [
    "arr[-1,-1]"
   ]
  },
  {
   "cell_type": "code",
   "execution_count": null,
   "id": "1b555579",
   "metadata": {},
   "outputs": [],
   "source": [
    "arr[11][4]"
   ]
  },
  {
   "cell_type": "code",
   "execution_count": null,
   "id": "af84740c",
   "metadata": {},
   "outputs": [],
   "source": [
    "arr[-1][-1]"
   ]
  },
  {
   "cell_type": "code",
   "execution_count": null,
   "id": "b74fe765",
   "metadata": {},
   "outputs": [],
   "source": [
    "arr[11][-1]"
   ]
  },
  {
   "cell_type": "markdown",
   "id": "03aae612",
   "metadata": {},
   "source": [
    "### 3D array "
   ]
  },
  {
   "cell_type": "code",
   "execution_count": null,
   "id": "5d5ea7a4",
   "metadata": {},
   "outputs": [],
   "source": [
    "arr =np.array(np.arange(225).reshape(5,15,3))"
   ]
  },
  {
   "cell_type": "code",
   "execution_count": null,
   "id": "40e1eaab",
   "metadata": {},
   "outputs": [],
   "source": [
    "arr "
   ]
  },
  {
   "cell_type": "code",
   "execution_count": null,
   "id": "964ca800",
   "metadata": {},
   "outputs": [],
   "source": [
    "\n",
    "print(\"shape of array \",arr.shape)\n",
    "print(\"size of array:-\",arr.size)\n",
    "print(\"dim of array :-\",arr.ndim)\n",
    "print(\"data types of array \",arr.dtype)"
   ]
  },
  {
   "cell_type": "code",
   "execution_count": null,
   "id": "38d622ef",
   "metadata": {},
   "outputs": [],
   "source": [
    "arr[0]"
   ]
  },
  {
   "cell_type": "code",
   "execution_count": null,
   "id": "8dea110d",
   "metadata": {},
   "outputs": [],
   "source": [
    "arr[0][2:]"
   ]
  },
  {
   "cell_type": "code",
   "execution_count": null,
   "id": "3a4d960a",
   "metadata": {},
   "outputs": [],
   "source": [
    "arr[:,0,:]  # : table ,0 row : coloum  "
   ]
  },
  {
   "cell_type": "code",
   "execution_count": null,
   "id": "89027af4",
   "metadata": {},
   "outputs": [],
   "source": [
    "arr"
   ]
  },
  {
   "cell_type": "code",
   "execution_count": null,
   "id": "5ee6801b",
   "metadata": {},
   "outputs": [],
   "source": [
    "arr[:,0:1,0:1]"
   ]
  },
  {
   "cell_type": "code",
   "execution_count": null,
   "id": "a2d81508",
   "metadata": {},
   "outputs": [],
   "source": [
    "arr[2][3][1]=200"
   ]
  },
  {
   "cell_type": "code",
   "execution_count": null,
   "id": "4dd564b4",
   "metadata": {},
   "outputs": [],
   "source": [
    "arr[2]"
   ]
  },
  {
   "cell_type": "code",
   "execution_count": null,
   "id": "a0fa33b5",
   "metadata": {},
   "outputs": [],
   "source": [
    "arr = np.array([1,2,3,4,56])\n",
    "arr.sort()"
   ]
  },
  {
   "cell_type": "code",
   "execution_count": null,
   "id": "4baaa4b4",
   "metadata": {},
   "outputs": [],
   "source": [
    "arr+2\n",
    "arr*arr\n",
    "arr/arr\n",
    "arr-arr\n",
    "arr + arr\n",
    "arr/2\n"
   ]
  }
 ],
 "metadata": {
  "kernelspec": {
   "display_name": "Python 3",
   "language": "python",
   "name": "python3"
  },
  "language_info": {
   "codemirror_mode": {
    "name": "ipython",
    "version": 3
   },
   "file_extension": ".py",
   "mimetype": "text/x-python",
   "name": "python",
   "nbconvert_exporter": "python",
   "pygments_lexer": "ipython3",
   "version": "3.11.5"
  }
 },
 "nbformat": 4,
 "nbformat_minor": 5
}
