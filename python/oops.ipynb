{
 "cells": [
  {
   "cell_type": "markdown",
   "id": "fe9bca8e",
   "metadata": {},
   "source": [
    "### Class \n",
    "* a class is a blueprint for creating objects (a particular data structure), providing initial values for attributes (member variables) and methods (functions defined inside the class).\n",
    "* polymorphism >>>>> many forms print(), len(), range(), max(), min()\n",
    "* inheritance >>>> parent class and child class\n",
    "* encapsulation>>>>>private and public, protected\n",
    "* abstraction >>>>> python abstract class ...\n"
   ]
  },
  {
   "cell_type": "code",
   "execution_count": null,
   "id": "49d53734",
   "metadata": {},
   "outputs": [],
   "source": []
  },
  {
   "cell_type": "code",
   "execution_count": null,
   "id": "72a0893e",
   "metadata": {},
   "outputs": [],
   "source": [
    "class Classname:\n",
    "    ## code here\n",
    "    pass\n",
    "\n",
    "# Classname is the class name\n",
    "# class is keyword.\n",
    "# pass as a placeholder"
   ]
  },
  {
   "cell_type": "code",
   "execution_count": null,
   "id": "0b4c49bb",
   "metadata": {},
   "outputs": [],
   "source": [
    "from sklearn.ensemble import RandomForestClassifier"
   ]
  },
  {
   "cell_type": "code",
   "execution_count": 3,
   "id": "3395bea5",
   "metadata": {},
   "outputs": [
    {
     "name": "stdout",
     "output_type": "stream",
     "text": [
      "Rohot Gehlot\n"
     ]
    }
   ],
   "source": [
    "class Student:  # class name is Student \n",
    "    name = \"Rohot Gehlot\"\n",
    "    age = 22\n",
    "\n",
    "\n",
    "\n",
    "\n",
    "st_obj=Student() ## create object of class \n",
    "print(st_obj.name)\n",
    "\n",
    "\n",
    "\n"
   ]
  },
  {
   "cell_type": "code",
   "execution_count": 5,
   "id": "12f1d12d",
   "metadata": {},
   "outputs": [
    {
     "name": "stdout",
     "output_type": "stream",
     "text": [
      "Rohot Gehlot\n",
      "22\n"
     ]
    }
   ],
   "source": [
    "class Student:  # class name is Student \n",
    "    name = \"Rohot Gehlot\"\n",
    "    age = 22\n",
    "\n",
    "    \n",
    "\n",
    "\n",
    "\n",
    "\n",
    "st_obj=Student() ## create object of class \n",
    "print(st_obj.name)\n",
    "\n",
    "print(st_obj.age)\n",
    "\n",
    "\n"
   ]
  },
  {
   "cell_type": "code",
   "execution_count": 6,
   "id": "c506e6e9",
   "metadata": {},
   "outputs": [],
   "source": [
    "class Student:  # class name is Student \n",
    "    def set_details(self, name , age , grade):\n",
    "        self.name= name\n",
    "        self.age = age\n",
    "        self.grade = grade\n",
    "\n",
    "    def disply(self):\n",
    "        print(f\"hello my name is {self.name} and my age is {self.age} and my grade is {self.grade}\")\n",
    "\n",
    "\n",
    "\n",
    "st_obj=Student()"
   ]
  },
  {
   "cell_type": "code",
   "execution_count": 11,
   "id": "169aa2b4",
   "metadata": {},
   "outputs": [],
   "source": [
    "st_obj.set_details(\"Rohit\", 22, \"A\")\n",
    "# st_obj.set_details(name = \"ritik\", age = 22, grade = \"A\")\n"
   ]
  },
  {
   "cell_type": "code",
   "execution_count": 12,
   "id": "75809ccf",
   "metadata": {},
   "outputs": [
    {
     "name": "stdout",
     "output_type": "stream",
     "text": [
      "hello my name is Rohit and my age is 22 and my grade is A\n"
     ]
    }
   ],
   "source": [
    "st_obj.disply()"
   ]
  },
  {
   "cell_type": "markdown",
   "id": "68c85b11",
   "metadata": {},
   "source": [
    "#### Inheritance \n",
    "* Inheritance allows a class (called child class) to inherit properties and methods from another class (called parent class).\n",
    "* types of inheritance\n",
    "1. Single inheritance\n",
    "2. Multiple inheritance \n",
    "3. Multilevel inheritance \n",
    "4. Hybrid inheritance \n",
    "5. Hierarchical inheritance \n"
   ]
  },
  {
   "cell_type": "code",
   "execution_count": 14,
   "id": "77fe06f0",
   "metadata": {},
   "outputs": [
    {
     "name": "stdout",
     "output_type": "stream",
     "text": [
      "hello beta ye papa ka hai \n"
     ]
    }
   ],
   "source": [
    "# 1. Single inheritance\n",
    "class Parent:\n",
    "    def parent_method(self):\n",
    "        print(\"hello beta ye papa ka hai \")\n",
    "\n",
    "\n",
    "\n",
    "class Child(Parent):\n",
    "    def child_method(self):\n",
    "        print(\"ie child ka hai \")\n",
    "\n",
    "\n",
    "\n",
    "child_obj = Child()\n",
    "\n",
    "child_obj.parent_method()"
   ]
  },
  {
   "cell_type": "code",
   "execution_count": 18,
   "id": "97c4354e",
   "metadata": {},
   "outputs": [],
   "source": [
    "# Multiple inheritance\n",
    "class Parent:\n",
    "    pass\n",
    "class Uncle:\n",
    "    pass\n",
    "class Child(Parent, Uncle):\n",
    "    pass\n",
    "\n",
    "obj =Child()"
   ]
  },
  {
   "cell_type": "code",
   "execution_count": 15,
   "id": "62eb018f",
   "metadata": {},
   "outputs": [],
   "source": [
    "# Multiple inheritance\n",
    "class Parent:\n",
    "    father_name = \"Rohit singh \"\n",
    "class Uncle:\n",
    "    uncle_name = \"Raju singh\"\n",
    "class Child(Parent, Uncle):\n",
    "    child_name = \"hemant singh \"\n",
    "\n",
    "obj =Child()"
   ]
  },
  {
   "cell_type": "code",
   "execution_count": 16,
   "id": "3c9d49f2",
   "metadata": {},
   "outputs": [
    {
     "data": {
      "text/plain": [
       "'Rohit singh '"
      ]
     },
     "execution_count": 16,
     "metadata": {},
     "output_type": "execute_result"
    }
   ],
   "source": [
    "obj.father_name"
   ]
  },
  {
   "cell_type": "code",
   "execution_count": 17,
   "id": "f8be59e1",
   "metadata": {},
   "outputs": [
    {
     "data": {
      "text/plain": [
       "'Raju singh'"
      ]
     },
     "execution_count": 17,
     "metadata": {},
     "output_type": "execute_result"
    }
   ],
   "source": [
    "obj.uncle_name"
   ]
  },
  {
   "cell_type": "code",
   "execution_count": 19,
   "id": "fb111e2f",
   "metadata": {},
   "outputs": [],
   "source": [
    "# Multilevel inheritance \n",
    "class Grandfather:\n",
    "    pass\n",
    "\n",
    "class Parent(Grandfather):\n",
    "    pass\n",
    "class Child(Parent):\n",
    "    pass\n",
    "\n",
    "obj = Child()"
   ]
  },
  {
   "cell_type": "code",
   "execution_count": 22,
   "id": "234674fb",
   "metadata": {},
   "outputs": [
    {
     "data": {
      "text/plain": [
       "'tara singh '"
      ]
     },
     "execution_count": 22,
     "metadata": {},
     "output_type": "execute_result"
    }
   ],
   "source": [
    "# Multilevel inheritance \n",
    "class Grandfather:\n",
    "    grandfather = \"Rohit singh \"\n",
    "\n",
    "class Parent(Grandfather):\n",
    "    father = \"tara singh \"\n",
    "class Child(Parent):\n",
    "    child = \"hemant singh \"\n",
    "\n",
    "obj = Child()\n",
    "obj.grandfather\n",
    "obj.father"
   ]
  },
  {
   "cell_type": "code",
   "execution_count": 24,
   "id": "dbc3b893",
   "metadata": {},
   "outputs": [],
   "source": [
    "# 4. Hybrid inheritance \n",
    "# 5. Hierarchical inheritance\n",
    "\n",
    "\n",
    "class Parent:\n",
    "    pass\n",
    "class Child1:\n",
    "    pass\n",
    "class Child2:\n",
    "    pass\n",
    "class Family(Parent, Child1, Child2):\n",
    "    pass\n",
    "fam_obj=Family()\n"
   ]
  },
  {
   "cell_type": "code",
   "execution_count": 27,
   "id": "552ef950",
   "metadata": {},
   "outputs": [
    {
     "name": "stdout",
     "output_type": "stream",
     "text": [
      "[1, 2, 3, 5, 5, 5, 6, 'Ritik', 2.5]\n",
      "ritik\n",
      "9\n"
     ]
    }
   ],
   "source": [
    "### polymorphism\n",
    "\n",
    "lst = [1,2,3,5,5,5,6, \"Ritik\", 2.5]\n",
    "print(lst)\n",
    "name = \"ritik\"\n",
    "print(name)\n",
    "len(lst)\n",
    "print(len(lst))"
   ]
  },
  {
   "cell_type": "code",
   "execution_count": 32,
   "id": "8ccb83bc",
   "metadata": {},
   "outputs": [],
   "source": [
    "# class Student:\n",
    "#     def student_details(self):\n",
    "#         print(\"hello my name is ritik\")\n",
    "#     def student_details(self, name ):\n",
    "#         print(f\"hello my name is {name}\")\n",
    "\n",
    "\n",
    "# obj =Student()\n",
    "# # obj.student_details(name= \"Raj \")\n",
    "# obj.student_details()"
   ]
  },
  {
   "cell_type": "code",
   "execution_count": 28,
   "id": "15baba4d",
   "metadata": {},
   "outputs": [
    {
     "name": "stdout",
     "output_type": "stream",
     "text": [
      "[1, 2, 3, 5, 5, 5, 6, 'Ritik', 2.5]\n",
      "ritik\n",
      "9\n",
      "5\n"
     ]
    }
   ],
   "source": [
    "lst = [1,2,3,5,5,5,6, \"Ritik\", 2.5]\n",
    "name = \"ritik\"\n",
    "print(lst)\n",
    "print(name)\n",
    "print(len(lst))\n",
    "print(len(name))"
   ]
  },
  {
   "cell_type": "markdown",
   "id": "e56e024a",
   "metadata": {},
   "source": [
    "* abstraction >>>>> python abstract class ..."
   ]
  },
  {
   "cell_type": "code",
   "execution_count": 33,
   "id": "1bb36a7d",
   "metadata": {},
   "outputs": [
    {
     "name": "stdout",
     "output_type": "stream",
     "text": [
      "dog bark\n"
     ]
    }
   ],
   "source": [
    "# print()\n",
    "# len()\n",
    "\n",
    "\n",
    "class Animal:\n",
    "    def sound(self):\n",
    "        print(\"animal sound\")\n",
    "    \n",
    "class Dog(Animal):\n",
    "    def sound(self):\n",
    "        print(\"dog bark\")\n",
    "\n",
    "\n",
    "dog_obj=Dog()\n",
    "dog_obj.sound()"
   ]
  },
  {
   "cell_type": "code",
   "execution_count": null,
   "id": "abceba9c",
   "metadata": {},
   "outputs": [
    {
     "name": "stdout",
     "output_type": "stream",
     "text": [
      "Rohit\n"
     ]
    }
   ],
   "source": [
    "class Student:\n",
    "    def __init__(self , name , age):\n",
    "        self.name = name  # instance variable\n",
    "        self.age = age \n",
    "\n",
    "obj =Student(name= \"ritik\", age = 22) \n",
    "\n",
    "\n",
    "        \n",
    "obj.name\n",
    "# print(obj1.name)"
   ]
  },
  {
   "cell_type": "code",
   "execution_count": 39,
   "id": "d9fbc172",
   "metadata": {},
   "outputs": [
    {
     "name": "stdout",
     "output_type": "stream",
     "text": [
      "hello my name is ritik and my age is 22\n"
     ]
    }
   ],
   "source": [
    "class Student:\n",
    "    def __init__(self , name , age):\n",
    "        self.name = name  # instance variable\n",
    "        self.age = age \n",
    "\n",
    "\n",
    "    def display(self):\n",
    "        print(f\"hello my name is {self.name} and my age is {self.age}\")\n",
    "\n",
    "obj =Student(name= \"ritik\", age = 22) \n",
    "\n",
    "\n",
    "        \n",
    "obj.name\n",
    "obj.display()\n",
    "# print(obj1.name)"
   ]
  },
  {
   "cell_type": "markdown",
   "id": "2ae947a3",
   "metadata": {},
   "source": [
    "* encapsulation>>>>>private and public, protected"
   ]
  },
  {
   "cell_type": "code",
   "execution_count": null,
   "id": "76c9c88b",
   "metadata": {},
   "outputs": [
    {
     "data": {
      "text/plain": [
       "'ritik'"
      ]
     },
     "execution_count": 40,
     "metadata": {},
     "output_type": "execute_result"
    }
   ],
   "source": [
    "class Student:\n",
    "    def __init__(self):\n",
    "        self.name = \"ritik\"\n",
    "        self._age = 22\n",
    "        self.__marks = 90 ## private variable\n",
    "\n",
    "    def display(self):\n",
    "        print(f\"hello my name is {self.name} and my age is {self._age} and my marks is {self.__marks}\")\n",
    "\n",
    "\n",
    "\n",
    "obj =Student()\n",
    "obj.name"
   ]
  },
  {
   "cell_type": "code",
   "execution_count": 41,
   "id": "d83f555d",
   "metadata": {},
   "outputs": [
    {
     "ename": "AttributeError",
     "evalue": "'Student' object has no attribute '__marks'",
     "output_type": "error",
     "traceback": [
      "\u001b[1;31m---------------------------------------------------------------------------\u001b[0m",
      "\u001b[1;31mAttributeError\u001b[0m                            Traceback (most recent call last)",
      "Cell \u001b[1;32mIn[41], line 1\u001b[0m\n\u001b[1;32m----> 1\u001b[0m \u001b[43mobj\u001b[49m\u001b[38;5;241;43m.\u001b[39;49m\u001b[43m__marks\u001b[49m\n",
      "\u001b[1;31mAttributeError\u001b[0m: 'Student' object has no attribute '__marks'"
     ]
    }
   ],
   "source": [
    "obj.__marks"
   ]
  },
  {
   "cell_type": "code",
   "execution_count": 42,
   "id": "e8c0d40f",
   "metadata": {},
   "outputs": [
    {
     "data": {
      "text/plain": [
       "22"
      ]
     },
     "execution_count": 42,
     "metadata": {},
     "output_type": "execute_result"
    }
   ],
   "source": [
    "obj._age"
   ]
  },
  {
   "cell_type": "code",
   "execution_count": 43,
   "id": "d5dbdb25",
   "metadata": {},
   "outputs": [
    {
     "data": {
      "text/plain": [
       "90"
      ]
     },
     "execution_count": 43,
     "metadata": {},
     "output_type": "execute_result"
    }
   ],
   "source": [
    "obj._Student__marks"
   ]
  },
  {
   "cell_type": "code",
   "execution_count": null,
   "id": "16693b75",
   "metadata": {},
   "outputs": [],
   "source": [
    "class A:\n",
    "    def __init__(self, a , b ):\n",
    "\n",
    "        \n",
    "        self.a = a\n",
    "        self.b =  b \n",
    "        \n"
   ]
  }
 ],
 "metadata": {
  "kernelspec": {
   "display_name": "Python 3",
   "language": "python",
   "name": "python3"
  },
  "language_info": {
   "codemirror_mode": {
    "name": "ipython",
    "version": 3
   },
   "file_extension": ".py",
   "mimetype": "text/x-python",
   "name": "python",
   "nbconvert_exporter": "python",
   "pygments_lexer": "ipython3",
   "version": "3.11.5"
  }
 },
 "nbformat": 4,
 "nbformat_minor": 5
}
