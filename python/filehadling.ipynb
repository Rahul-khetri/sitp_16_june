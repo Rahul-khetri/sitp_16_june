{
 "cells": [
  {
   "cell_type": "markdown",
   "id": "e505a11d",
   "metadata": {},
   "source": [
    "### **File handling** \n",
    "\n",
    "| Mode   | Description                                                  |\n",
    "| ------ | ------------------------------------------------------------ |\n",
    "| `\"r\"`  | Read mode (default), error if file doesn't exist             |\n",
    "| `\"w\"`  | Write mode, creates a file if not exist, overwrites existing |\n",
    "| `\"a\"`  | Append mode, adds content to end of file                     |\n",
    "| `\"x\"`  | Create mode, error if file already exists                    |\n",
    "                                         |\n"
   ]
  },
  {
   "cell_type": "code",
   "execution_count": null,
   "id": "eb6e371f",
   "metadata": {},
   "outputs": [],
   "source": [
    "# file =open(\"file_name\",\"mode\")\n",
    "# file.read()\n",
    "# file.close()"
   ]
  },
  {
   "cell_type": "code",
   "execution_count": null,
   "id": "b9bad663",
   "metadata": {},
   "outputs": [],
   "source": [
    "file=open('demo.txt','r')\n",
    "# file.read()\n",
    "# file.readlines()\n",
    "file.readline()\n",
    "file.close()"
   ]
  },
  {
   "cell_type": "code",
   "execution_count": null,
   "id": "e8a984c2",
   "metadata": {},
   "outputs": [],
   "source": [
    "with open(\"demo.txt\",'r') as file:\n",
    "    lines=file.readlines()\n",
    "    print(lines)"
   ]
  },
  {
   "cell_type": "code",
   "execution_count": null,
   "id": "4342131c",
   "metadata": {},
   "outputs": [],
   "source": [
    "try:\n",
    "    with open(\"demo2.txt\",'r') as file:\n",
    "        lines=file.readlines()\n",
    "        print(lines)\n",
    "\n",
    "\n",
    "except FileNotFoundError:\n",
    "    print(\"bhaya ji file nhi mili\")\n"
   ]
  },
  {
   "cell_type": "code",
   "execution_count": null,
   "id": "6efd1dcb",
   "metadata": {},
   "outputs": [],
   "source": [
    "file = open(\"demo.txt\",'w')\n",
    "file.write(\"hello this is data science class \")\n",
    "file.close()"
   ]
  },
  {
   "cell_type": "code",
   "execution_count": null,
   "id": "3c7da4e4",
   "metadata": {},
   "outputs": [],
   "source": [
    "file = open('demo.txt','r')\n",
    "file.readline()\n",
    "file.close()"
   ]
  },
  {
   "cell_type": "code",
   "execution_count": null,
   "id": "e3282a30",
   "metadata": {},
   "outputs": [],
   "source": [
    "file = open(\"demo.txt\",'a')\n",
    "file.write(\"hello my name is ritik and l am from kuchaman  city \")\n",
    "file.close()"
   ]
  },
  {
   "cell_type": "code",
   "execution_count": null,
   "id": "49404a17",
   "metadata": {},
   "outputs": [],
   "source": [
    "file = open(\"demo.txt\",'r')\n",
    "file.read()\n"
   ]
  },
  {
   "cell_type": "code",
   "execution_count": null,
   "id": "20df36a2",
   "metadata": {},
   "outputs": [],
   "source": [
    "file=open(\"demo.txt\",'x')\n",
    "file.write(\"this file is created using x mode\")\n",
    "file.close()"
   ]
  },
  {
   "cell_type": "code",
   "execution_count": null,
   "id": "c69cab96",
   "metadata": {},
   "outputs": [],
   "source": [
    "file=open(\"newfile.txt\",'x')\n",
    "file.write(\"this file is created using x mode\")\n",
    "file.close()"
   ]
  },
  {
   "cell_type": "code",
   "execution_count": null,
   "id": "4a9b31af",
   "metadata": {},
   "outputs": [],
   "source": [
    "file=open(\"test2.txt\",'x')\n",
    "file.write(\"this file is created using x mode\")\n",
    "file.close()\n"
   ]
  },
  {
   "cell_type": "code",
   "execution_count": null,
   "id": "4400ccbf",
   "metadata": {},
   "outputs": [],
   "source": [
    "\n",
    "file = open(\"test2.txt\",'r')\n",
    "file.read()"
   ]
  },
  {
   "cell_type": "code",
   "execution_count": null,
   "id": "9fa3fc88",
   "metadata": {},
   "outputs": [],
   "source": []
  }
 ],
 "metadata": {
  "kernelspec": {
   "display_name": "Python 3",
   "language": "python",
   "name": "python3"
  },
  "language_info": {
   "codemirror_mode": {
    "name": "ipython",
    "version": 3
   },
   "file_extension": ".py",
   "mimetype": "text/x-python",
   "name": "python",
   "nbconvert_exporter": "python",
   "pygments_lexer": "ipython3",
   "version": "3.11.5"
  }
 },
 "nbformat": 4,
 "nbformat_minor": 5
}
