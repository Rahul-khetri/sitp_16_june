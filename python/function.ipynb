{
 "cells": [
  {
   "cell_type": "markdown",
   "id": "af02de9e",
   "metadata": {},
   "source": [
    "## Function \n",
    "\n",
    "A function is a block of reusable code that performs a specific task or a set of tasks and function allows modularity , reusability , abstraction.\n",
    "\n",
    "There are mainly 2 kind of functions in python:-\n",
    "\n",
    "\n",
    "\n",
    "* Built-in Functions  ( print(), len(), range(), max(), min() ).\n",
    "* User-Defined Functions.\n"
   ]
  },
  {
   "cell_type": "code",
   "execution_count": null,
   "id": "17e413f3",
   "metadata": {},
   "outputs": [],
   "source": [
    "# def function_name(parameter):\n",
    "#     code \n",
    "\n",
    "# function_name(parameter ki value )\n",
    "\n"
   ]
  },
  {
   "cell_type": "code",
   "execution_count": 4,
   "id": "3c26c315",
   "metadata": {},
   "outputs": [
    {
     "name": "stdout",
     "output_type": "stream",
     "text": [
      "hello hii kese ho \n"
     ]
    }
   ],
   "source": [
    "def temp():\n",
    "    print(\"hello hii kese ho \")\n",
    "temp()"
   ]
  },
  {
   "cell_type": "code",
   "execution_count": 5,
   "id": "238cf7ec",
   "metadata": {},
   "outputs": [],
   "source": [
    "def add_two_number(a , b ):\n",
    "    print(a+b)\n",
    "    "
   ]
  },
  {
   "cell_type": "code",
   "execution_count": 6,
   "id": "a81a9d72",
   "metadata": {},
   "outputs": [
    {
     "name": "stdout",
     "output_type": "stream",
     "text": [
      "8\n"
     ]
    }
   ],
   "source": [
    "add_two_number(a=2, b = 6)"
   ]
  },
  {
   "cell_type": "code",
   "execution_count": 9,
   "id": "31df2193",
   "metadata": {},
   "outputs": [],
   "source": [
    "def temp(name = \"Rohit\"):\n",
    "    print(\"your name is \", name )\n"
   ]
  },
  {
   "cell_type": "code",
   "execution_count": 10,
   "id": "1ced96f3",
   "metadata": {},
   "outputs": [
    {
     "name": "stdout",
     "output_type": "stream",
     "text": [
      "your name is  Rohit\n"
     ]
    }
   ],
   "source": [
    "temp()"
   ]
  },
  {
   "cell_type": "code",
   "execution_count": 11,
   "id": "ae8ef8ec",
   "metadata": {},
   "outputs": [
    {
     "name": "stdout",
     "output_type": "stream",
     "text": [
      "your name is  Govind\n"
     ]
    }
   ],
   "source": [
    "temp(name = \"Govind\")"
   ]
  },
  {
   "cell_type": "code",
   "execution_count": 12,
   "id": "eb7d8bb8",
   "metadata": {},
   "outputs": [
    {
     "name": "stdout",
     "output_type": "stream",
     "text": [
      "your name is  raj\n"
     ]
    }
   ],
   "source": [
    "temp(name = \"raj\")"
   ]
  },
  {
   "cell_type": "code",
   "execution_count": 13,
   "id": "ef808151",
   "metadata": {},
   "outputs": [],
   "source": [
    "def temp(a , b ):\n",
    "    return a*b\n",
    "\n",
    "\n",
    "    "
   ]
  },
  {
   "cell_type": "code",
   "execution_count": 14,
   "id": "df5e4132",
   "metadata": {},
   "outputs": [
    {
     "data": {
      "text/plain": [
       "200"
      ]
     },
     "execution_count": 14,
     "metadata": {},
     "output_type": "execute_result"
    }
   ],
   "source": [
    "temp(a = 10, b = 20)"
   ]
  },
  {
   "cell_type": "code",
   "execution_count": null,
   "id": "6277f404",
   "metadata": {},
   "outputs": [],
   "source": []
  }
 ],
 "metadata": {
  "kernelspec": {
   "display_name": "Python 3",
   "language": "python",
   "name": "python3"
  },
  "language_info": {
   "codemirror_mode": {
    "name": "ipython",
    "version": 3
   },
   "file_extension": ".py",
   "mimetype": "text/x-python",
   "name": "python",
   "nbconvert_exporter": "python",
   "pygments_lexer": "ipython3",
   "version": "3.11.5"
  }
 },
 "nbformat": 4,
 "nbformat_minor": 5
}
