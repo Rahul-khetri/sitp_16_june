{
 "cells": [
  {
   "cell_type": "markdown",
   "id": "bac91ac1",
   "metadata": {},
   "source": [
    "#### Conditional Statements\n",
    "            A conditional statement in Python is used to decide whether a block of code should run or not, based on whether a condition is **True** or **False**.\n",
    "* if \n",
    "* else \n",
    "* elif\n",
    " "
   ]
  },
  {
   "cell_type": "code",
   "execution_count": 7,
   "id": "47b6b102",
   "metadata": {},
   "outputs": [
    {
     "name": "stdout",
     "output_type": "stream",
     "text": [
      "x is greter then 5 \n"
     ]
    }
   ],
   "source": [
    "x = 10\n",
    "if x>5:  # condition \n",
    "    print(\"x is greter then 5 \")\n",
    "    # code "
   ]
  },
  {
   "cell_type": "code",
   "execution_count": 9,
   "id": "8dd1f09f",
   "metadata": {},
   "outputs": [],
   "source": [
    "x = 10\n",
    "if x<5:  # condition \n",
    "    print(\"x is greter then 5 \")\n",
    "    # code "
   ]
  },
  {
   "cell_type": "markdown",
   "id": "37610dd1",
   "metadata": {},
   "source": [
    "##### if-else Statement "
   ]
  },
  {
   "cell_type": "code",
   "execution_count": 10,
   "id": "578c198b",
   "metadata": {},
   "outputs": [
    {
     "name": "stdout",
     "output_type": "stream",
     "text": [
      "x is not greater then 5 \n"
     ]
    }
   ],
   "source": [
    "x = 3\n",
    "if x>5:\n",
    "    print(\"x is greater then 5 \")\n",
    "else:\n",
    "    print(\"x is not greater then 5 \")"
   ]
  },
  {
   "cell_type": "markdown",
   "id": "c8c8fa85",
   "metadata": {},
   "source": [
    "#### if-elif-else Statement "
   ]
  },
  {
   "cell_type": "code",
   "execution_count": 11,
   "id": "93f5c379",
   "metadata": {},
   "outputs": [
    {
     "name": "stdout",
     "output_type": "stream",
     "text": [
      "x is equal to 5 \n"
     ]
    }
   ],
   "source": [
    "x = 5\n",
    "if x>5:\n",
    "    print(\"x is greater then 5 \")\n",
    "elif x ==5:\n",
    "    print(\"x is equal to 5 \")\n",
    "else:\n",
    "    print(\" x is not greater then 5 \")"
   ]
  },
  {
   "cell_type": "markdown",
   "id": "a8d21c12",
   "metadata": {},
   "source": [
    "#### Nested if statement "
   ]
  },
  {
   "cell_type": "code",
   "execution_count": 12,
   "id": "3ad114b1",
   "metadata": {},
   "outputs": [
    {
     "name": "stdout",
     "output_type": "stream",
     "text": [
      "x is between 0 and 20\n"
     ]
    }
   ],
   "source": [
    "x = 10\n",
    "if x >0:\n",
    "    if x<20:\n",
    "        print(\"x is between 0 and 20\")"
   ]
  },
  {
   "cell_type": "code",
   "execution_count": 13,
   "id": "54087b0c",
   "metadata": {},
   "outputs": [
    {
     "name": "stdout",
     "output_type": "stream",
     "text": [
      "x is greter then 5 \n"
     ]
    }
   ],
   "source": [
    "x = 10\n",
    "if (x>5):  # condition \n",
    "    print(\"x is greter then 5 \")"
   ]
  },
  {
   "cell_type": "markdown",
   "id": "971acd5e",
   "metadata": {},
   "source": [
    "#### Short- hand if (one line )"
   ]
  },
  {
   "cell_type": "code",
   "execution_count": 14,
   "id": "f6990506",
   "metadata": {},
   "outputs": [
    {
     "name": "stdout",
     "output_type": "stream",
     "text": [
      "x is greter then 5 \n"
     ]
    }
   ],
   "source": [
    "x = 10\n",
    "if x>5: print(\"x is greter then 5 \")  # condition \n",
    "    "
   ]
  },
  {
   "cell_type": "code",
   "execution_count": 15,
   "id": "38ad9b6e",
   "metadata": {},
   "outputs": [
    {
     "name": "stdout",
     "output_type": "stream",
     "text": [
      "x is greter then 5 \n"
     ]
    }
   ],
   "source": [
    "x = 10\n",
    "if (x>5):  print(\"x is greter then 5 \")  # condition \n",
    "   "
   ]
  },
  {
   "cell_type": "code",
   "execution_count": null,
   "id": "b0891e39",
   "metadata": {},
   "outputs": [],
   "source": []
  },
  {
   "cell_type": "markdown",
   "id": "36a64b28",
   "metadata": {},
   "source": [
    "##### Ternary Operator "
   ]
  },
  {
   "cell_type": "code",
   "execution_count": 19,
   "id": "bd437894",
   "metadata": {},
   "outputs": [
    {
     "name": "stdout",
     "output_type": "stream",
     "text": [
      "Odd\n"
     ]
    }
   ],
   "source": [
    "x = int(input(\"enter your number \"))\n",
    "resullt =\"EVEN\" if x %2==0 else \"Odd\"\n",
    "print(resullt)"
   ]
  },
  {
   "cell_type": "code",
   "execution_count": 20,
   "id": "7e4f2e28",
   "metadata": {},
   "outputs": [
    {
     "name": "stdout",
     "output_type": "stream",
     "text": [
      "<class 'str'>\n",
      "<class 'int'>\n"
     ]
    }
   ],
   "source": [
    "A=input(\"enter you first number \")\n",
    "print(type(A))\n",
    "a=int(A)\n",
    "print(type(a))"
   ]
  },
  {
   "cell_type": "code",
   "execution_count": null,
   "id": "1a034c2f",
   "metadata": {},
   "outputs": [],
   "source": []
  }
 ],
 "metadata": {
  "kernelspec": {
   "display_name": "Python 3",
   "language": "python",
   "name": "python3"
  },
  "language_info": {
   "codemirror_mode": {
    "name": "ipython",
    "version": 3
   },
   "file_extension": ".py",
   "mimetype": "text/x-python",
   "name": "python",
   "nbconvert_exporter": "python",
   "pygments_lexer": "ipython3",
   "version": "3.11.5"
  }
 },
 "nbformat": 4,
 "nbformat_minor": 5
}
