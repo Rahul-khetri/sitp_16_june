{
 "cells": [
  {
   "cell_type": "markdown",
   "id": "505d53c4",
   "metadata": {},
   "source": []
  },
  {
   "cell_type": "code",
   "execution_count": 1,
   "id": "b1d6b18c",
   "metadata": {},
   "outputs": [],
   "source": [
    "try:\n",
    "    pass\n",
    "except:\n",
    "    pass\n",
    "else:\n",
    "    pass\n",
    "finally:\n",
    "    pass\n"
   ]
  },
  {
   "cell_type": "code",
   "execution_count": null,
   "id": "345e369f",
   "metadata": {},
   "outputs": [],
   "source": [
    "try:\n",
    "    # main code \n",
    "    pass #main code \n",
    "\n",
    "except:\n",
    "    # exception code \n",
    "    pass\n",
    "\n",
    "else:\n",
    "    # else code \n",
    "    pass\n",
    "\n",
    "finally:\n",
    "    pass    # finally code"
   ]
  },
  {
   "cell_type": "code",
   "execution_count": 6,
   "id": "64e7bf2d",
   "metadata": {},
   "outputs": [
    {
     "name": "stdout",
     "output_type": "stream",
     "text": [
      "Divide by zero error\n"
     ]
    }
   ],
   "source": [
    "try:\n",
    "    x = 10/0\n",
    "except ZeroDivisionError as e :\n",
    "    print(\"Divide by zero error\")"
   ]
  },
  {
   "cell_type": "code",
   "execution_count": 7,
   "id": "b0931eac",
   "metadata": {},
   "outputs": [
    {
     "name": "stdout",
     "output_type": "stream",
     "text": [
      " error division by zero\n"
     ]
    }
   ],
   "source": [
    "try:\n",
    "    x = 10/0\n",
    "except Exception as e :\n",
    "    print(\" error\", e)"
   ]
  },
  {
   "cell_type": "code",
   "execution_count": null,
   "id": "95d83d19",
   "metadata": {},
   "outputs": [
    {
     "name": "stdout",
     "output_type": "stream",
     "text": [
      "result 5.0\n",
      "this is block always runs \n"
     ]
    }
   ],
   "source": [
    "try:\n",
    "    num=int(input(\"enter you first number \"))   ### string pass  0  any number \n",
    "    result=10/num\n",
    "\n",
    "except ZeroDivisionError:\n",
    "    print(\"can not divide by 0\")\n",
    "\n",
    "except ValueError:\n",
    "    print(\"Invalid input, please enter a number\")\n",
    "\n",
    "else:\n",
    "    print(\"result\",result)\n",
    "\n",
    "finally:\n",
    "    print(\"this is block always runs \")\n",
    "\n"
   ]
  },
  {
   "cell_type": "code",
   "execution_count": null,
   "id": "06dddcb7",
   "metadata": {},
   "outputs": [],
   "source": [
    "ATM >>>>>>>>>>>>>atm insert \n",
    "enter your pin  2525\n",
    "please enter you correct  pin "
   ]
  },
  {
   "cell_type": "code",
   "execution_count": null,
   "id": "2f52c950",
   "metadata": {},
   "outputs": [],
   "source": [
    "try:\n",
    "    num=int(input(\"enter you first number \"))\n",
    "    result=10/num\n",
    "\n",
    "except (ValueError,ZeroDivisionError) as e :\n",
    "    print(\"Error \", e )\n",
    "\n",
    "\n",
    "\n",
    "else:\n",
    "    print(\"result\",result)\n",
    "\n",
    "finally:\n",
    "    print(\"this is block always runs \")"
   ]
  },
  {
   "cell_type": "code",
   "execution_count": 16,
   "id": "deb8fa7d",
   "metadata": {},
   "outputs": [
    {
     "name": "stdout",
     "output_type": "stream",
     "text": [
      "Age must be at least 18\n"
     ]
    }
   ],
   "source": [
    "# raising custom Exceptio\n",
    "\n",
    "\n",
    "def check_age(age):\n",
    "    if age <18:\n",
    "        raise ValueError(\"Age must be at least 18\")\n",
    "    else:\n",
    "        print(\"you age eligible for vote \")\n",
    "\n",
    "\n",
    "try:\n",
    "    check_age(10)\n",
    "\n",
    "except ValueError as e:\n",
    "    print(e)"
   ]
  },
  {
   "cell_type": "code",
   "execution_count": null,
   "id": "5edee43e",
   "metadata": {},
   "outputs": [],
   "source": []
  }
 ],
 "metadata": {
  "kernelspec": {
   "display_name": "Python 3",
   "language": "python",
   "name": "python3"
  },
  "language_info": {
   "codemirror_mode": {
    "name": "ipython",
    "version": 3
   },
   "file_extension": ".py",
   "mimetype": "text/x-python",
   "name": "python",
   "nbconvert_exporter": "python",
   "pygments_lexer": "ipython3",
   "version": "3.11.5"
  }
 },
 "nbformat": 4,
 "nbformat_minor": 5
}
